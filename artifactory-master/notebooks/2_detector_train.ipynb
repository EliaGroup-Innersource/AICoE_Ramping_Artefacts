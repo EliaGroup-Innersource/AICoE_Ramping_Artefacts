{
 "cells": [
  {
   "cell_type": "code",
   "execution_count": 1,
   "metadata": {},
   "outputs": [],
   "source": [
    "%reload_ext autoreload\n",
    "%autoreload 2\n",
    "\n",
    "import sys\n",
    "sys.path.append('../artifactory/')"
   ]
  },
  {
   "cell_type": "code",
   "execution_count": 2,
   "metadata": {},
   "outputs": [
    {
     "name": "stderr",
     "output_type": "stream",
     "text": [
      "C:\\Users\\gustv\\AppData\\Roaming\\Python\\Python310\\site-packages\\torchaudio\\backend\\utils.py:74: UserWarning: No audio backend is available.\n",
      "  warnings.warn(\"No audio backend is available.\")\n"
     ]
    }
   ],
   "source": [
    "import torch\n",
    "import pickle\n",
    "import warnings\n",
    "import numpy as np\n",
    "from lightning.pytorch import Trainer\n",
    "from lightning.pytorch.loggers import TensorBoardLogger\n",
    "from lightning.pytorch.callbacks import ModelCheckpoint, LearningRateMonitor\n",
    "from torch.utils.data import DataLoader\n",
    "from pathlib import Path\n",
    "from itertools import repeat\n",
    "from artifact import Saw\n",
    "from data import ArtifactDataset, CachedArtifactDataset\n",
    "from detector import ConvolutionDetector, WindowTransformerDetector\n",
    "from utilities import parameters_k\n",
    "\n",
    "# stop warnings\n",
    "torch.set_float32_matmul_precision(\"high\")\n",
    "warnings.filterwarnings(\"ignore\", \".*does not have many workers.*\")\n"
   ]
  },
  {
   "cell_type": "code",
   "execution_count": 3,
   "metadata": {},
   "outputs": [
    {
     "data": {
      "text/plain": [
       "device(type='cuda')"
      ]
     },
     "execution_count": 3,
     "metadata": {},
     "output_type": "execute_result"
    }
   ],
   "source": [
    "device = torch.device(\"cuda\" if torch.cuda.is_available() else \"cpu\")\n",
    "device"
   ]
  },
  {
   "cell_type": "markdown",
   "metadata": {},
   "source": [
    "All settings."
   ]
  },
  {
   "cell_type": "code",
   "execution_count": 4,
   "metadata": {},
   "outputs": [
    {
     "name": "stdout",
     "output_type": "stream",
     "text": [
      "WindowTransformerDetector_528.96K\n"
     ]
    }
   ],
   "source": [
    "# width of window\n",
    "width = 512\n",
    "\n",
    "# model\n",
    "model = WindowTransformerDetector(window=width,                    \n",
    "                                  convolution_features=[256, 128, 64, 32],\n",
    "                                  convolution_width=[5, 9, 17, 33],\n",
    "                                  convolution_dropout=0.0,\n",
    "                                  transformer_heads=2,\n",
    "                                  transformer_feedforward=128,\n",
    "                                  transformer_layers=2,\n",
    "                                  transformer_dropout=0,\n",
    "                                  loss=\"mask\",\n",
    "                                  loss_boost_fp=0)\n",
    "# model = ConvolutionDetector(convolution_features=[128, 64, 32],\n",
    "#                             convolution_width=[5, 9, 33],\n",
    "#                             convolution_dilation=[1, 1, 1],\n",
    "#                             convolution_dropout=0.0,\n",
    "#                             convolution_activation=\"sigmoid\")\n",
    "model_name = f\"{model.__class__.__name__}_{parameters_k(model)}\"\n",
    "\n",
    "val_file = Path(f\"../data/validation{width}.all.pkl\")\n",
    "val_datasets = [\n",
    "    \"australian_electricity_demand_dataset\",\n",
    "    \"electricity_hourly_dataset\",\n",
    "    \"electricity_load_diagrams\",\n",
    "    \"HouseholdPowerConsumption1\",\n",
    "    \"HouseholdPowerConsumption2\",\n",
    "    \"london_smart_meters_dataset_without_missing_values\",\n",
    "    \"solar_10_minutes_dataset\",\n",
    "    \"wind_farms_minutely_dataset_without_missing_values\",\n",
    "]\n",
    "train_datasets = [\n",
    "    \"australian_electricity_demand_dataset\",\n",
    "    \"electricity_hourly_dataset\",\n",
    "    \"electricity_load_diagrams\",\n",
    "    \"HouseholdPowerConsumption1\",\n",
    "    \"HouseholdPowerConsumption2\",\n",
    "    \"london_smart_meters_dataset_without_missing_values\",\n",
    "    \"solar_10_minutes_dataset\",\n",
    "    \"wind_farms_minutely_dataset_without_missing_values\",\n",
    "]\n",
    "print(model_name)"
   ]
  },
  {
   "cell_type": "markdown",
   "metadata": {},
   "source": [
    "Loading data."
   ]
  },
  {
   "cell_type": "code",
   "execution_count": 5,
   "metadata": {},
   "outputs": [],
   "source": [
    "def load_series(names: list[str], split: str):\n",
    "    series = list()\n",
    "    counts = list()\n",
    "    for name in names:\n",
    "        with open(f\"../data/processed/{name}_{split}.pickle\", \"rb\") as f:\n",
    "            raw = [a for a in pickle.load(f) if len(a) > width]\n",
    "            series.extend(np.array(a).astype(np.float32) for a in raw)\n",
    "            counts.extend(repeat(1 / len(raw), len(raw)))\n",
    "    counts = np.array(counts)\n",
    "    return series, counts / counts.sum()"
   ]
  },
  {
   "cell_type": "code",
   "execution_count": 6,
   "metadata": {},
   "outputs": [],
   "source": [
    "# train\n",
    "train_data, train_weights = load_series(train_datasets, \"TRAIN\")\n",
    "train_dataset = ArtifactDataset(train_data,\n",
    "                                Saw(min_width=4, max_width=32),\n",
    "                                width=width,\n",
    "                                padding=64,\n",
    "                                weight=train_weights) \n",
    "train_loader = DataLoader(train_dataset, batch_size=32)"
   ]
  },
  {
   "cell_type": "code",
   "execution_count": 7,
   "metadata": {},
   "outputs": [],
   "source": [
    "# validation\n",
    "if not val_file.exists():\n",
    "    val_data, val_weights = load_series(val_datasets, \"TEST\")\n",
    "    val_gen = ArtifactDataset(val_data,\n",
    "                              Saw(min_width=4, max_width=32),\n",
    "                              width=width,\n",
    "                              padding=64,\n",
    "                              weight=val_weights)\n",
    "    val = CachedArtifactDataset.generate(val_gen,\n",
    "                                         n=2048,\n",
    "                                         to=val_file)\n",
    "else:\n",
    "    val = CachedArtifactDataset(file=val_file)\n",
    "val_loader = DataLoader(val, batch_size=32)"
   ]
  },
  {
   "cell_type": "markdown",
   "metadata": {},
   "source": [
    "Sanity check."
   ]
  },
  {
   "cell_type": "code",
   "execution_count": 8,
   "metadata": {},
   "outputs": [
    {
     "data": {
      "text/plain": [
       "tensor([[0.0737, 0.0707, 0.0695,  ..., 0.4376, 0.4241, 0.3963],\n",
       "        [0.1193, 0.1053, 0.1076,  ..., 0.1030, 0.1146, 0.0951],\n",
       "        [0.0163, 0.0163, 0.0163,  ..., 0.2358, 0.2358, 0.2358],\n",
       "        ...,\n",
       "        [0.0382, 0.1649, 0.2842,  ..., 0.1776, 0.0992, 0.1025],\n",
       "        [0.7148, 0.7454, 0.7397,  ..., 0.7006, 0.7183, 0.6949],\n",
       "        [0.2881, 0.2478, 0.2284,  ..., 0.0000, 0.0000, 0.0000]])"
      ]
     },
     "execution_count": 8,
     "metadata": {},
     "output_type": "execute_result"
    }
   ],
   "source": [
    "batch = next(iter(train_loader))\n",
    "batch[\"data\"]"
   ]
  },
  {
   "cell_type": "code",
   "execution_count": 9,
   "metadata": {},
   "outputs": [
    {
     "data": {
      "text/plain": [
       "torch.Size([32, 512])"
      ]
     },
     "execution_count": 9,
     "metadata": {},
     "output_type": "execute_result"
    }
   ],
   "source": [
    "model(batch[\"data\"]).shape"
   ]
  },
  {
   "cell_type": "markdown",
   "metadata": {},
   "source": [
    "Training!"
   ]
  },
  {
   "cell_type": "code",
   "execution_count": 10,
   "metadata": {},
   "outputs": [
    {
     "name": "stderr",
     "output_type": "stream",
     "text": [
      "GPU available: True (cuda), used: True\n",
      "TPU available: False, using: 0 TPU cores\n",
      "IPU available: False, using: 0 IPUs\n",
      "HPU available: False, using: 0 HPUs\n",
      "Missing logger folder: models/detector\\WindowTransformerDetector_528.96K\n",
      "LOCAL_RANK: 0 - CUDA_VISIBLE_DEVICES: [0]\n",
      "\n",
      "  | Name         | Type                        | Params\n",
      "-------------------------------------------------------------\n",
      "0 | convolutions | Sequential                  | 503 K \n",
      "1 | position     | SinusoidalPositionEmbedding | 0     \n",
      "2 | dropout      | Dropout                     | 0     \n",
      "3 | transformer  | TransformerEncoder          | 25.4 K\n",
      "4 | linear       | Linear                      | 33    \n",
      "-------------------------------------------------------------\n",
      "528 K     Trainable params\n",
      "0         Non-trainable params\n",
      "528 K     Total params\n",
      "2.116     Total estimated model params size (MB)\n"
     ]
    },
    {
     "name": "stdout",
     "output_type": "stream",
     "text": [
      "Epoch 0: : 20000it [15:31, 21.47it/s, v_num=0]                             Epoch 00020: reducing learning rate of group 0 to 1.0000e-04.\n",
      "Epoch 0: : 41000it [32:26, 21.06it/s, v_num=0]Epoch 00041: reducing learning rate of group 0 to 1.0000e-05.\n",
      "Epoch 0: : 47000it [37:48, 20.72it/s, v_num=0]Epoch 00047: reducing learning rate of group 0 to 1.0000e-06.\n",
      "Epoch 0: : 50000it [40:20, 20.66it/s, v_num=0]"
     ]
    },
    {
     "name": "stderr",
     "output_type": "stream",
     "text": [
      "`Trainer.fit` stopped: `max_steps=50000` reached.\n"
     ]
    },
    {
     "name": "stdout",
     "output_type": "stream",
     "text": [
      "Epoch 0: : 50000it [40:20, 20.66it/s, v_num=0]\n"
     ]
    }
   ],
   "source": [
    "# initialize callbacks\n",
    "checkpointcallback = ModelCheckpoint(monitor=\"validation\",\n",
    "                                     mode=\"min\",\n",
    "                                     save_top_k=1)\n",
    "lr_monitor = LearningRateMonitor(logging_interval='step')\n",
    "\n",
    "# initialize logger\n",
    "logger = TensorBoardLogger(\"models/detector\",\n",
    "                           name=model_name)\n",
    "\n",
    "# initialize trainer\n",
    "trainer = Trainer(logger=logger,\n",
    "                  max_steps=50000,\n",
    "                  val_check_interval=1000,\n",
    "                  callbacks=[checkpointcallback,\n",
    "                             lr_monitor])\n",
    "\n",
    "# train\n",
    "trainer.fit(model,\n",
    "            train_dataloaders=train_loader,\n",
    "            val_dataloaders=val_loader)"
   ]
  }
 ],
 "metadata": {
  "kernelspec": {
   "display_name": "Python 3",
   "language": "python",
   "name": "python3"
  },
  "language_info": {
   "codemirror_mode": {
    "name": "ipython",
    "version": 3
   },
   "file_extension": ".py",
   "mimetype": "text/x-python",
   "name": "python",
   "nbconvert_exporter": "python",
   "pygments_lexer": "ipython3",
   "version": "3.10.0"
  },
  "orig_nbformat": 4
 },
 "nbformat": 4,
 "nbformat_minor": 2
}
